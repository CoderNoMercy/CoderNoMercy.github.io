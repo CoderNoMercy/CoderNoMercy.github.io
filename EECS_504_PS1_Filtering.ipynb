{
  "nbformat": 4,
  "nbformat_minor": 0,
  "metadata": {
    "colab": {
      "name": "EECS 504 PS1: Filtering",
      "provenance": [],
      "collapsed_sections": [],
      "toc_visible": true,
      "include_colab_link": true
    },
    "kernelspec": {
      "name": "python3",
      "display_name": "Python 3"
    }
  },
  "cells": [
    {
      "cell_type": "markdown",
      "metadata": {
        "id": "view-in-github",
        "colab_type": "text"
      },
      "source": [
        "<a href=\"https://colab.research.google.com/github/CoderNoMercy/CoderNoMercy.github.io/blob/master/EECS_504_PS1_Filtering.ipynb\" target=\"_parent\"><img src=\"https://colab.research.google.com/assets/colab-badge.svg\" alt=\"Open In Colab\"/></a>"
      ]
    },
    {
      "cell_type": "markdown",
      "metadata": {
        "id": "ix5dQS2rUMlu",
        "colab_type": "text"
      },
      "source": [
        "#EECS 504 PS1: Filtering\n",
        "\n",
        "Please provide the following information \n",
        "(e.g. Andrew Owens, ahowens):\n",
        "\n",
        "[Your first name] [Your last name], [Your UMich uniqname]\n",
        "\n",
        "\n"
      ]
    },
    {
      "cell_type": "markdown",
      "metadata": {
        "id": "XiSx2ulsb8nd",
        "colab_type": "text"
      },
      "source": [
        "# Introduction\n",
        "\n",
        "We'll provide you with starter code, like this, in a Jupyter notebook for most problem sets. Please fill in the code to complete the assignment, and submit your notebook to Canvas as a .ipynb file. You can, of course, initially write your code offline in an editor like Emacs or Vim -- we'd just like the final output to be in a notebook format to make grading more consistent. You can also host your notebook locally.\n",
        "\n",
        "Please note that *we won't run your code*. The notebook you submit should already contain all of the results we ask for. In particular, the visualizations of edge responses and blurred images should be computed *before you submit*.  Also, please do not include long, unnecessary outputs (a few print statements and visualizations are fine, but pages of debugging messages make grading difficult).\n",
        "\n",
        "If you'd like to preview what your notebook will look like when we grade it, follow the directions [here](https://stackoverflow.com/questions/15998491/how-to-convert-ipython-notebooks-to-pdf-and-html) for converting the .ipynb notebook into an HTML file. We'll be running a command similar to: \n",
        "```\n",
        "ipython nbconvert --to html ps1.ipynb  \n",
        "```\n",
        "\n",
        "\n"
      ]
    },
    {
      "cell_type": "markdown",
      "metadata": {
        "id": "W_Cst4k4tuBc",
        "colab_type": "text"
      },
      "source": [
        "# First steps\n",
        "\n",
        "Run the following code to import the modules that you'll need, and to download the images. You are welcome to modify this code (e.g. by importing more modules)."
      ]
    },
    {
      "cell_type": "code",
      "metadata": {
        "id": "SHumIO-xt57H",
        "colab_type": "code",
        "colab": {}
      },
      "source": [
        "import numpy as np, matplotlib as mpl, matplotlib.pyplot as plt, urllib, os\n",
        "import scipy.ndimage # For image filtering\n",
        "import imageio # For loading images\n",
        "\n",
        "# Download the images that you'll need\n",
        "base_url = 'https://web.eecs.umich.edu/~ahowens/eecs504/w20/psets/ps1/ims'\n",
        "for name in ['dog-1.jpg', 'dog-2.jpg', 'apple.jpg']:\n",
        "  with open(name, 'wb') as out:\n",
        "    url = os.path.join(base_url, name)\n",
        "    out.write(urllib.request.urlopen(url).read())\n"
      ],
      "execution_count": 0,
      "outputs": []
    },
    {
      "cell_type": "markdown",
      "metadata": {
        "id": "fe7zlcTDb_hG",
        "colab_type": "text"
      },
      "source": [
        "\n",
        "# Problem 1.2: Pet edge detection (a)"
      ]
    },
    {
      "cell_type": "code",
      "metadata": {
        "id": "fdVJelRFvw_l",
        "colab_type": "code",
        "colab": {}
      },
      "source": [
        "# You can upload images yourself or load them from URLs\n",
        "im = imageio.imread('dog-1.jpg')\n",
        "# Convert to grayscale. We'll use floats in [0, 1].\n",
        "im = im.mean(2)/255.\n",
        "\n",
        "# Your code here!\n",
        "\n",
        "# Convolve the image with horizontal and vertical gradient filters\n",
        "Ix = convolve(im, dx)\n",
        "Iy = convolve(im, dy)\n",
        "edges = Ix**2. + Iy**2.\n",
        "\n",
        "# Visualize edge maps using matplotlib\n",
        "plt.figure()\n",
        "plt.title('Input image')\n",
        "plt.axis('off')\n",
        "plt.imshow(im, cmap = 'gray', vmin = 0, vmax = 1)\n",
        "\n",
        "plt.figure()\n",
        "plt.axis('off')\n",
        "plt.title('Ix')\n",
        "plt.imshow(Ix)\n",
        "\n",
        "plt.figure()\n",
        "plt.title('Iy')\n",
        "plt.axis('off')\n",
        "plt.imshow(Iy)\n",
        "\n",
        "plt.figure()\n",
        "plt.title('Edges')\n",
        "plt.axis('off')\n",
        "# Please visualize edge responses using this range of values.\n",
        "plt.imshow(edges, vmin = 0., vmax = np.percentile(edges, 99))\n"
      ],
      "execution_count": 0,
      "outputs": []
    },
    {
      "cell_type": "markdown",
      "metadata": {
        "id": "R6kXU2W7Z2mg",
        "colab_type": "text"
      },
      "source": [
        "# Problem 1.2: Pet edge detection (c)\n",
        "\n",
        "Please visualize the images and edges with matplotlib, using code similar to what we provided in (a)."
      ]
    },
    {
      "cell_type": "code",
      "metadata": {
        "id": "2GztPAzTaVlM",
        "colab_type": "code",
        "colab": {}
      },
      "source": [
        "im = imageio.imread('dog-2.jpg').mean(2)/255.\n",
        "\n",
        "# Your code here!"
      ],
      "execution_count": 0,
      "outputs": []
    },
    {
      "cell_type": "markdown",
      "metadata": {
        "id": "WJ_AX-0anfW0",
        "colab_type": "text"
      },
      "source": [
        "# Problem 1.2: Pet edge detection (d)\n",
        "\n",
        "Please use the visualization code to display the filter you construct."
      ]
    },
    {
      "cell_type": "code",
      "metadata": {
        "id": "mAtYsq1FniMv",
        "colab_type": "code",
        "colab": {}
      },
      "source": [
        "# Your code here!\n",
        "\n",
        "plt.figure()\n",
        "plt.title('Gx')\n",
        "plt.imshow(Gx)"
      ],
      "execution_count": 0,
      "outputs": []
    },
    {
      "cell_type": "markdown",
      "metadata": {
        "id": "y399fUtBbBAJ",
        "colab_type": "text"
      },
      "source": [
        "# Problem 1.2 Pet edge detection (e)\n",
        "Please visualize the results using matplotlib."
      ]
    },
    {
      "cell_type": "code",
      "metadata": {
        "id": "7EaIptzxa45b",
        "colab_type": "code",
        "colab": {}
      },
      "source": [
        "im = imageio.imread('apple.jpg').mean(2)/255.\n",
        "\n",
        "# Your code here!"
      ],
      "execution_count": 0,
      "outputs": []
    }
  ]
}